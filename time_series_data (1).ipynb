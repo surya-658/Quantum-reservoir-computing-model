{
 "cells": [
  {
   "cell_type": "code",
   "execution_count": null,
   "id": "8a29e7de-1633-45cf-aaa6-d2527940e8d3",
   "metadata": {},
   "outputs": [],
   "source": [
    "def time_series_data(series , input_size=1, output_size=1):\n",
    "    X_seq , y_seq = [] , []\n",
    "    for i in range(len(series) - input_size - output_size):\n",
    "        X_seq.append(series[i:i + input_size])\n",
    "        y_seq.append(series[i + input_size:i + input_size + output_size])\n",
    "    return np.array(X_seq), np.array(y_seq)\n"
   ]
  },
  {
   "cell_type": "code",
   "execution_count": null,
   "id": "63f3af35-709a-4a7c-a36d-e75c12a7fe89",
   "metadata": {},
   "outputs": [],
   "source": [
    "X_series = X_train_pca[:, 0]\n",
    "X_seq , y_seq = time_series_data(X_series)"
   ]
  },
  {
   "cell_type": "code",
   "execution_count": null,
   "id": "6baf8ea3-4fc4-4bf4-b5e0-3e5489d77fc4",
   "metadata": {},
   "outputs": [],
   "source": [
    "X_train_seq , X_test_seq, y_train_seq , y_test_seq = train_test_split(X_seq, y_seq , test_size = 0.2 , shuffle=False)"
   ]
  }
 ],
 "metadata": {
  "kernelspec": {
   "display_name": "Python 3 (ipykernel)",
   "language": "python",
   "name": "python3"
  },
  "language_info": {
   "codemirror_mode": {
    "name": "ipython",
    "version": 3
   },
   "file_extension": ".py",
   "mimetype": "text/x-python",
   "name": "python",
   "nbconvert_exporter": "python",
   "pygments_lexer": "ipython3",
   "version": "3.12.5"
  }
 },
 "nbformat": 4,
 "nbformat_minor": 5
}
