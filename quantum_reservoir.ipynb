{
 "cells": [
  {
   "cell_type": "code",
   "execution_count": null,
   "id": "69402827-89b9-4d91-9eb1-4b61ff5b17ad",
   "metadata": {},
   "outputs": [],
   "source": [
    "#reserviour \n",
    "\n",
    "def quantum_reservoir(data_point, qubits, theta_1, theta_2 , reservoir_depth=5, seed=42):\n",
    "    np.random.seed(seed)\n",
    "\n",
    "    reservoir_circuit = QuantumCircuit(qubits)\n",
    "\n",
    "    for i , value in enumerate(data_point):\n",
    "        reservoir_circuit.h(i)\n",
    "        reservoir_circuit.rx(2 * np.pi * value, i)\n",
    "        reservoir_circuit.ry(np.pi * value, i)\n",
    "        reservoir_circuit.rz(3 * np.pi * value, i)\n",
    "\n",
    "\n",
    "    for _ in range(reservoir_depth):\n",
    "        for qubit in range(qubits):\n",
    "            reservoir_circuit.ry(np.random.uniform(0, np.pi), qubit)\n",
    "\n",
    "        for qubit in range(qubits-1):\n",
    "            reservoir_circuit.cx(qubit, qubit+1)\n",
    "\n",
    "        for qubit in range(qubits-2):\n",
    "            reservoir_circuit.crx(theta_1, qubit, qubit+1)\n",
    "            reservoir_circuit.crz(theta_2, qubit+1, qubit+2)\n",
    "\n",
    "    reservoir_circuit.measure_all()\n",
    "\n",
    "    return reservoir_circuit\n",
    "        "
   ]
  }
 ],
 "metadata": {
  "kernelspec": {
   "display_name": "Python 3 (ipykernel)",
   "language": "python",
   "name": "python3"
  },
  "language_info": {
   "codemirror_mode": {
    "name": "ipython",
    "version": 3
   },
   "file_extension": ".py",
   "mimetype": "text/x-python",
   "name": "python",
   "nbconvert_exporter": "python",
   "pygments_lexer": "ipython3",
   "version": "3.12.5"
  }
 },
 "nbformat": 4,
 "nbformat_minor": 5
}
